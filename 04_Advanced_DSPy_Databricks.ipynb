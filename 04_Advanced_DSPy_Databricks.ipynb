{
 "cells": [
  {
   "cell_type": "markdown",
   "metadata": {
    "application/vnd.databricks.v1+cell": {
     "cellMetadata": {},
     "inputWidgets": {},
     "nuid": "42259f63-4fb8-4baf-b049-c64123d998ec",
     "showTitle": false,
     "tableResultSettingsMap": {},
     "title": ""
    }
   },
   "source": [
    "#Databricks and DSPy\n",
    "\n",
    "In the last section, you saw how DSPy has some cutting-edge techniques to help you go to production. Once you have you AI Agents in good shape after developing modular components and optimizing the prompts, you can use Databricks to deploy your agents and use them in production. \n",
    "\n",
    "In this notebook, we will cover some other capabilities that you can use DSPy with so that you have it as reference. These capabilities are not necessary for production but important to keep in mind when you eventually need it"
   ]
  },
  {
   "cell_type": "markdown",
   "metadata": {
    "application/vnd.databricks.v1+cell": {
     "cellMetadata": {},
     "inputWidgets": {},
     "nuid": "a9cacccd-8021-4702-a301-6f0c521541b4",
     "showTitle": false,
     "tableResultSettingsMap": {},
     "title": ""
    }
   },
   "source": [
    "#Databricks AI Bridge and DSPy \n",
    "\n",
    "This is an ongoing effort at Databricks to create a library that better integrates with Databricks products, particularly with authentication. AI Bridge helps pass your workspace client credentials throughout DSPy! \n",
    "\n",
    "All you need to do is use databricks_dspy to set the LLM and your remaining DSPy code will be compatible! \n",
    "\n",
    "Databricks AI Bridge also provides a way to interact with Genie Spaces and Vector Search, examples of which are provided below"
   ]
  },
  {
   "cell_type": "code",
   "execution_count": 0,
   "metadata": {
    "application/vnd.databricks.v1+cell": {
     "cellMetadata": {
      "byteLimit": 2048000,
      "rowLimit": 10000
     },
     "inputWidgets": {},
     "nuid": "df223c5a-36fa-4024-bef2-764b330c2d96",
     "showTitle": false,
     "tableResultSettingsMap": {},
     "title": ""
    }
   },
   "outputs": [],
   "source": [
    "%pip install --upgrade dspy mlflow databricks-agents databricks-sdk databricks-mcp databricks-dspy\n",
    "dbutils.library.restartPython()"
   ]
  },
  {
   "cell_type": "code",
   "execution_count": 0,
   "metadata": {
    "application/vnd.databricks.v1+cell": {
     "cellMetadata": {
      "byteLimit": 2048000,
      "rowLimit": 10000
     },
     "inputWidgets": {},
     "nuid": "9e639808-3b1c-496b-996e-6bc06f6f1c67",
     "showTitle": false,
     "tableResultSettingsMap": {},
     "title": ""
    }
   },
   "outputs": [],
   "source": [
    "import dspy\n",
    "import mlflow\n",
    "import databricks_dspy\n",
    "\n",
    "mlflow.dspy.autolog()\n",
    "\n",
    "databricksLM = databricks_dspy.DatabricksLM('databricks/databricks-gpt-oss-120b', cache=False)\n",
    "dspy.configure(lm=databricksLM)\n",
    "\n",
    "predict = dspy.Predict(\"question->answer\")\n",
    "\n",
    "print(predict(question=\"why did a chicken cross the kitchen?\"))\n",
    "\n"
   ]
  },
  {
   "cell_type": "markdown",
   "metadata": {
    "application/vnd.databricks.v1+cell": {
     "cellMetadata": {},
     "inputWidgets": {},
     "nuid": "483a588a-873b-487e-a712-9a4e1ce59ff9",
     "showTitle": false,
     "tableResultSettingsMap": {},
     "title": ""
    }
   },
   "source": [
    "### Vector Search Example"
   ]
  },
  {
   "cell_type": "code",
   "execution_count": 0,
   "metadata": {
    "application/vnd.databricks.v1+cell": {
     "cellMetadata": {
      "byteLimit": 2048000,
      "rowLimit": 10000
     },
     "inputWidgets": {},
     "nuid": "490d292d-3a75-490b-a352-583808e8cea3",
     "showTitle": false,
     "tableResultSettingsMap": {},
     "title": ""
    }
   },
   "outputs": [],
   "source": [
    "from databricks_dspy import DatabricksRM\n",
    "\n",
    "def vector_search_look_up(question):\n",
    "  \"\"\"Used to query a vector search endpoint\"\"\"\n",
    "  rm = DatabricksRM(\n",
    "      databricks_index_name=\"catalog.schema.your_index_name\", #change this to your index\n",
    "      databricks_endpoint=\"https://your-workspace.cloud.databricks.com\", #change this to your workspace URL. Optional if working in a databricks notebook\n",
    "      databricks_token=\"your_databricks_token\", #change this to your token, Optional if working in a databricks notebook\n",
    "      columns=[\"id\", \"text\", \"metadata\", \"text_vector\"], #change these to columns you would like to query and retrieve \n",
    "      text_column_name=\"text\", #change this to the text column being retrieved \n",
    "      docs_id_column_name=\"id\", #change to the ID \n",
    "      k=3 #change this to how many rows you would like to retrieve\n",
    "  )\n",
    "\n",
    "  result = rm(query=question) #adjust result to return what you're looking for \n",
    "\n",
    "  return result"
   ]
  },
  {
   "cell_type": "markdown",
   "metadata": {
    "application/vnd.databricks.v1+cell": {
     "cellMetadata": {},
     "inputWidgets": {},
     "nuid": "cb2e0f35-84f6-4cef-9fa0-72f4846d79a1",
     "showTitle": false,
     "tableResultSettingsMap": {},
     "title": ""
    }
   },
   "source": [
    "### Genie Example"
   ]
  },
  {
   "cell_type": "code",
   "execution_count": 0,
   "metadata": {
    "application/vnd.databricks.v1+cell": {
     "cellMetadata": {},
     "inputWidgets": {},
     "nuid": "205adae5-d38f-48a8-b537-cc20a05b347f",
     "showTitle": false,
     "tableResultSettingsMap": {},
     "title": ""
    }
   },
   "outputs": [],
   "source": [
    "from databricks_ai_bridge.genie import Genie\n",
    "from databricks.sdk import WorkspaceClient\n",
    "\n",
    "customer_product_lookup = Genie(\n",
    "    space_id=\"\", #change to your Genie Space ID\n",
    "    client=WorkspaceClient()  \n",
    ")\n",
    "\n",
    "response = customer_product_lookup.ask_question(\"what is the latest vehicle Dawn RADANOVITZ-MINNITI purchased\")\n",
    "print(response.result)"
   ]
  },
  {
   "cell_type": "markdown",
   "metadata": {
    "application/vnd.databricks.v1+cell": {
     "cellMetadata": {},
     "inputWidgets": {},
     "nuid": "ca3dd98b-9255-42ac-968c-6174550aafd5",
     "showTitle": false,
     "tableResultSettingsMap": {},
     "title": ""
    }
   },
   "source": [
    "#Databricks MCP and DSPy\n",
    "\n",
    "DSPy has native capabilities in interacting with any MCP server. Here's an example of how you would do this with a Databricks MCP server"
   ]
  },
  {
   "cell_type": "code",
   "execution_count": 0,
   "metadata": {
    "application/vnd.databricks.v1+cell": {
     "cellMetadata": {
      "byteLimit": 2048000,
      "rowLimit": 10000
     },
     "inputWidgets": {},
     "nuid": "9de88ea0-7072-4b49-bd77-19a3120e8682",
     "showTitle": false,
     "tableResultSettingsMap": {},
     "title": ""
    }
   },
   "outputs": [],
   "source": [
    "from databricks_mcp.oauth_provider import DatabricksOAuthClientProvider\n",
    "from mcp.client.streamable_http import streamablehttp_client\n",
    "from mcp.client.session import ClientSession\n",
    "from databricks.sdk import WorkspaceClient\n",
    "import dspy\n",
    "\n",
    "# Initialize the Databricks workspace client\n",
    "workspace_client = WorkspaceClient()\n",
    "\n",
    "host = workspace_client.config.host\n",
    "MANAGED_MCP_SERVER_URLS = [\n",
    "    f\"{host}/api/2.0/mcp/functions/system/ai\",\n",
    "]\n",
    "\n",
    "dspy.configure(lm=dspy.LM(\"databricks/databricks-gpt-oss-120b\"))\n",
    "\n",
    "async with streamablehttp_client(\n",
    "    url=f\"{host}/api/2.0/mcp/functions/system/ai\",\n",
    "    auth=DatabricksOAuthClientProvider(workspace_client),\n",
    ") as (read_stream, write_stream, _):\n",
    "    async with ClientSession(read_stream, write_stream) as session:\n",
    "        await session.initialize()\n",
    "        tools = await session.list_tools()\n",
    "        print(tools)\n",
    "        # Convert MCP tools to DSPy tools\n",
    "        dspy_tools = []\n",
    "        for tool in tools.tools:\n",
    "            dspy_tools.append(dspy.Tool.from_mcp_tool(session, tool))\n",
    "\n",
    "        # Create the agent\n",
    "        react = dspy.ReAct(\"question -> answer\", tools=dspy_tools)\n",
    "\n",
    "        result = await react.acall(question=\"What is 5**5?\")\n",
    "        print(result)\n"
   ]
  },
  {
   "cell_type": "markdown",
   "metadata": {
    "application/vnd.databricks.v1+cell": {
     "cellMetadata": {},
     "inputWidgets": {},
     "nuid": "60359b1f-7ea9-464b-8bad-33543f10351f",
     "showTitle": false,
     "tableResultSettingsMap": {},
     "title": ""
    }
   },
   "source": [
    "#Databricks ai_query and DSPy\n",
    "\n"
   ]
  },
  {
   "cell_type": "code",
   "execution_count": 0,
   "metadata": {
    "application/vnd.databricks.v1+cell": {
     "cellMetadata": {
      "byteLimit": 2048000,
      "rowLimit": 10000
     },
     "inputWidgets": {},
     "nuid": "b8f79c49-67d4-4055-a69d-d95075f55855",
     "showTitle": false,
     "tableResultSettingsMap": {},
     "title": ""
    }
   },
   "outputs": [],
   "source": [
    "import os\n",
    "import mlflow\n",
    "import databricks_dspy\n",
    "from mlflow.types.type_hints import TypeFromExample\n",
    "from mlflow.models.resources import (\n",
    "    DatabricksFunction,\n",
    "    DatabricksGenieSpace,\n",
    "    DatabricksServingEndpoint,\n",
    ")\n",
    "from pkg_resources import get_distribution\n",
    "\n",
    "resources = [\n",
    "    DatabricksServingEndpoint(endpoint_name=\"databricks-gpt-oss-120b\"),\n",
    "]\n",
    "\n",
    "mlflow.dspy.autolog()\n",
    "\n",
    "databricksLM = databricks_dspy.DatabricksLM('databricks/databricks-gpt-oss-120b', cache=False)\n",
    "\n",
    "dspy.settings.configure(lm=databricks_dspy.DatabricksLM('databricks/databricks-gpt-oss-120b', cache=False))\n",
    "\n",
    "class MyModel(mlflow.pyfunc.PythonModel):\n",
    "  def __init__(self):\n",
    "      self.program = dspy.Predict(\"question -> answer\")\n",
    "  \n",
    "  def predict(self, model_input: TypeFromExample):\n",
    "      dspy.configure(lm=dspy.LM('databricks/databricks-gpt-oss-120b', cache=False))\n",
    "      if hasattr(model_input, \"to_dict\"):\n",
    "        model_input = model_input.to_dict('records')\n",
    "      return [self.program(question=getattr(model_input[0], \"question\", None)).answer]\n",
    "\n",
    "logged_agent_info = mlflow.pyfunc.log_model(python_model=MyModel(), name=\"dspy-ai-query-test\", input_example=[{\"question\": \"What is MLflow?\"}], resources=resources)"
   ]
  },
  {
   "cell_type": "code",
   "execution_count": 0,
   "metadata": {
    "application/vnd.databricks.v1+cell": {
     "cellMetadata": {
      "byteLimit": 2048000,
      "rowLimit": 10000
     },
     "inputWidgets": {},
     "nuid": "f79c2dfa-fe48-403f-a4e1-19caf76d2573",
     "showTitle": false,
     "tableResultSettingsMap": {},
     "title": ""
    }
   },
   "outputs": [],
   "source": [
    "uc_registered_model_info = mlflow.register_model(model_uri=logged_agent_info.model_uri, name=\"austin_choi_demo_catalog.agents.dspy-ai-query-test\")"
   ]
  },
  {
   "cell_type": "code",
   "execution_count": 0,
   "metadata": {
    "application/vnd.databricks.v1+cell": {
     "cellMetadata": {
      "byteLimit": 2048000,
      "rowLimit": 10000
     },
     "inputWidgets": {},
     "nuid": "5bb03422-ebe5-49d4-b61f-b8cb36702baa",
     "showTitle": false,
     "tableResultSettingsMap": {},
     "title": ""
    }
   },
   "outputs": [],
   "source": [
    "import mlflow.deployments\n",
    "\n",
    "# Initialize the deployment client\n",
    "client = mlflow.deployments.get_deploy_client(\"databricks\")\n",
    "\n",
    "# Create the serving endpoint\n",
    "endpoint = client.create_endpoint(\n",
    "    name=\"dspy-ai-query-endpoint\",  # Choose your endpoint name\n",
    "    config={\n",
    "        \"served_entities\": [\n",
    "            {\n",
    "                \"name\": \"dspy-entity\",\n",
    "                \"entity_name\": \"austin_choi_demo_catalog.agents.dspy-ai-query-test\",\n",
    "                \"entity_version\": \"2\",  # Specify the model version\n",
    "                \"workload_size\": \"Small\",\n",
    "                \"scale_to_zero_enabled\": True\n",
    "            }\n",
    "        ],\n",
    "        \"traffic_config\": {\n",
    "            \"routes\": [\n",
    "                {\n",
    "                    \"served_model_name\": \"dspy-entity\",\n",
    "                    \"traffic_percentage\": 100\n",
    "                }\n",
    "            ]\n",
    "        }\n",
    "    }\n",
    ")\n"
   ]
  },
  {
   "cell_type": "code",
   "execution_count": 0,
   "metadata": {
    "application/vnd.databricks.v1+cell": {
     "cellMetadata": {
      "byteLimit": 2048000,
      "implicitDf": true,
      "rowLimit": 10000
     },
     "inputWidgets": {},
     "nuid": "4df9a319-eb50-489c-841f-5276191d5045",
     "showTitle": false,
     "tableResultSettingsMap": {},
     "title": ""
    }
   },
   "outputs": [],
   "source": [
    "%sql\n",
    "SELECT ai_query(\n",
    "    endpoint => 'dspy-ai-query-endpoint',\n",
    "    request => named_struct(\n",
    "      \"question\", \"what is MLflow?\"\n",
    "    )\n",
    ");"
   ]
  },
  {
   "cell_type": "code",
   "execution_count": 0,
   "metadata": {
    "application/vnd.databricks.v1+cell": {
     "cellMetadata": {},
     "inputWidgets": {},
     "nuid": "fb25689f-5de2-4219-bfb0-b865211e6e52",
     "showTitle": false,
     "tableResultSettingsMap": {},
     "title": ""
    }
   },
   "outputs": [],
   "source": []
  }
 ],
 "metadata": {
  "application/vnd.databricks.v1+notebook": {
   "computePreferences": null,
   "dashboards": [],
   "environmentMetadata": {
    "base_environment": "dbe_65bc13ea-276c-4905-a728-9fe2fb1780e2",
    "environment_version": "3"
   },
   "inputWidgetPreferences": null,
   "language": "python",
   "notebookMetadata": {
    "mostRecentlyExecutedCommandWithImplicitDF": {
     "commandId": 8321753609752038,
     "dataframes": [
      "_sqldf"
     ]
    },
    "pythonIndentUnit": 2
   },
   "notebookName": "04_Advanced_DSPy_Databricks",
   "widgets": {}
  },
  "language_info": {
   "name": "python"
  }
 },
 "nbformat": 4,
 "nbformat_minor": 0
}
