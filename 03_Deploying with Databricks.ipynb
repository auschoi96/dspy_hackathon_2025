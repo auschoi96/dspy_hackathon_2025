{
 "cells": [
  {
   "cell_type": "markdown",
   "metadata": {
    "application/vnd.databricks.v1+cell": {
     "cellMetadata": {},
     "inputWidgets": {},
     "nuid": "48086bad-2aa3-40ab-b4b3-b505acc62468",
     "showTitle": false,
     "tableResultSettingsMap": {},
     "title": ""
    }
   },
   "source": [
    "#Objective: \n",
    "Create an Agent that can process unstructured data to their specifications\n",
    "\n",
    "Broad Ideas: \n",
    "\n",
    "1. Process a PDF and convert to structured Data\n",
    "2. Create Vector Search Index off of it \n",
    "3. Use Genie Spaces to link data \n",
    "4. Identify necessary information \n",
    "5. Define a function to create necessary visuals or take necessary actions"
   ]
  },
  {
   "cell_type": "markdown",
   "metadata": {
    "application/vnd.databricks.v1+cell": {
     "cellMetadata": {},
     "inputWidgets": {},
     "nuid": "ff50ac53-11d1-4df1-980d-5334e327f936",
     "showTitle": false,
     "tableResultSettingsMap": {},
     "title": ""
    }
   },
   "source": [
    "#Recommendations for ETL \n",
    "1. Use ai_parse_document for PDF\n",
    "Use Databricks' ai_parse_document function to automatically extract text, tables, and structured data from your PDF files. This AI-powered tool understands document layout and converts PDFs into clean, structured JSON format. It works much better than basic text extraction for complex documents.\n",
    "2. Store Information into Delta Tables. We need existing Delta Tables to write back to existing tables. \n",
    "Take the parsed PDF data and save it into a Delta Table, which is Databricks' optimized storage format. Delta Tables provide reliable data storage with features like automatic versioning and schema management. This becomes your clean, queryable data source for the next steps.\n",
    "3. Create Vector Search Index\n",
    "Convert your text data into vector embeddings and create a searchable index that enables semantic search. This allows you to find documents based on meaning rather than just keywords. The vector index is essential for building AI applications like chatbots or document Q&A systems.\n",
    "4. There are some provided notebooks that you can use to parse PDFs more quickly and reliably than ai_parse_document if you wish\n"
   ]
  },
  {
   "cell_type": "markdown",
   "metadata": {
    "application/vnd.databricks.v1+cell": {
     "cellMetadata": {},
     "inputWidgets": {},
     "nuid": "61fb292b-f2be-441e-9011-5bc35ddb68b3",
     "showTitle": false,
     "tableResultSettingsMap": {},
     "title": ""
    }
   },
   "source": [
    "#Section 2: Functions\n",
    "1. Create X amount of managed functions to complete task. This can be Genie Spaces, Model serving Endpoints, Agent Bricks\n",
    "2. Create regular python functions that can execute code and create visuals. \n",
    "3. Optional: Try out Managed MCP and incorporate that as a tool"
   ]
  },
  {
   "cell_type": "markdown",
   "metadata": {
    "application/vnd.databricks.v1+cell": {
     "cellMetadata": {},
     "inputWidgets": {},
     "nuid": "9e9c6f62-6056-48ac-ab4b-051941d49fd9",
     "showTitle": false,
     "tableResultSettingsMap": {},
     "title": ""
    }
   },
   "source": [
    "#Section 3: Deployment\n",
    "\n",
    "1. Use Agents.deploy to deploy your agent to an agent endpoint \n",
    "2. Make sure to install mlflow 3.0 to take advantage of the latest experiment and traces tracking. \n",
    "3. (Optional) Deploy to a Databricks apps UI\n",
    "\n",
    "Databricks is taking a model as code approach for deploying agents since there are so many difference pieces that can be defined in many different ways. For maximum compatibility, we recommend making a agent.py file to deploy as a model. \n",
    "\n",
    "The workflow is shown below. You will take advantange of the typical mlflow capabilities to deploy this"
   ]
  },
  {
   "cell_type": "code",
   "execution_count": 0,
   "metadata": {
    "application/vnd.databricks.v1+cell": {
     "cellMetadata": {},
     "inputWidgets": {},
     "nuid": "50cce923-23c9-4541-8fdb-6bf5ab3e545f",
     "showTitle": false,
     "tableResultSettingsMap": {},
     "title": ""
    }
   },
   "outputs": [],
   "source": [
    "%%writefile agent.py\n",
    "\n",
    "from typing import Any, Generator, Optional\n",
    "from databricks.sdk.service.dashboards import GenieAPI\n",
    "import mlflow\n",
    "from databricks.sdk import WorkspaceClient\n",
    "from mlflow.entities import SpanType\n",
    "from mlflow.pyfunc.model import ChatAgent\n",
    "from mlflow.types.agent import (\n",
    "    ChatAgentMessage,\n",
    "    ChatAgentResponse,\n",
    "    ChatContext,\n",
    ")\n",
    "import dspy\n",
    "import uuid\n",
    "\n",
    "# Autolog DSPy traces to MLflow\n",
    "mlflow.dspy.autolog()\n",
    "\n",
    "# Set up DSPy with a Databricks-hosted LLM\n",
    "LLM_ENDPOINT_NAME = \"databricks-meta-llama-3-3-70b-instruct\"\n",
    "lm = dspy.LM(model=f\"databricks/{LLM_ENDPOINT_NAME}\")\n",
    "dspy.settings.configure(lm=lm)\n",
    "\n",
    "######################################\n",
    "## Create our Signature. Make as many as you need\n",
    "######################################\n",
    "class genie_selector_agent(dspy.Signature):\n",
    "  \"\"\"\n",
    "  Given the sql_instructions, determine which genie space tool to call, send the exact sql_instruction text to the tool and answer the question given the response from the tool.\n",
    "  \"\"\" \n",
    "  sql_instruction: str = dspy.InputField()\n",
    "  response: str = dspy.OutputField() \n",
    "  sql_query_output:  list = dspy.OutputField()\n",
    "\n",
    "######################################\n",
    "## Create custom modules \n",
    "######################################\n",
    "\n",
    "#this is entire up to you if you want to prepackage some modules together to collective complete a task\n",
    "\n",
    "######################################\n",
    "## Create our ChatAgent. This is an object MLflow needs to recognize what kind of model this is. You'll notice its design is very similar to a custom module\n",
    "######################################\n",
    "\n",
    "class DSPyChatAgent(ChatAgent):     \n",
    "    def __init__(self): #instantiate the agents or signatures that you need\n",
    "      self.genie_selector_agent = genie_selector_agent\n",
    "      self.multi_genie_agent = dspy.ReAct(self.genie_selector_agent, tools=[self.hls_patient_genie, self.investment_portfolio_genie], max_iters=1)\n",
    "\n",
    "    ######################################\n",
    "    ## Define your tools below within the ChatAgent so that the class knows these exist. You can define these outside the class as well if you like\n",
    "    ######################################\n",
    "\n",
    "    def hls_patient_genie(self, sql_instruction):\n",
    "\n",
    "      w = WorkspaceClient()\n",
    "      genie_space_id = \"01effef4c7e113f9b8952cf568b49ac7\"\n",
    "\n",
    "      # Start a conversation\n",
    "      conversation = w.genie.start_conversation_and_wait(\n",
    "          space_id=genie_space_id,\n",
    "          content=f\"{sql_instruction} always limit to one result\"\n",
    "      )\n",
    "\n",
    "      response = w.genie.get_message_attachment_query_result(\n",
    "        space_id=genie_space_id,\n",
    "        conversation_id=conversation.conversation_id,\n",
    "        message_id=conversation.message_id,\n",
    "        attachment_id=conversation.attachments[0].attachment_id\n",
    "      )\n",
    "\n",
    "      return response.statement_response.result.data_array\n",
    "\n",
    "    def investment_portfolio_genie(self, sql_instruction):\n",
    "\n",
    "      w = WorkspaceClient()\n",
    "      genie_space_id = \"01f030d91cc6165d88aaee122a274294\"\n",
    "\n",
    "      # Start a conversation\n",
    "      conversation = w.genie.start_conversation_and_wait(\n",
    "          space_id=genie_space_id,\n",
    "          content=f\"{sql_instruction} always limit to one result\"\n",
    "      )\n",
    "\n",
    "      response = w.genie.get_message_attachment_query_result(\n",
    "        space_id=genie_space_id,\n",
    "        conversation_id=conversation.conversation_id,\n",
    "        message_id=conversation.message_id,\n",
    "        attachment_id=conversation.attachments[0].attachment_id\n",
    "      )\n",
    "\n",
    "      return response.statement_response.result.data_array\n",
    "  \n",
    "    #very basic memory implementation\n",
    "    def prepare_message_history(self, messages: list[ChatAgentMessage]):\n",
    "        history_entries = []\n",
    "        # Assume the last message in the input is the most recent user question.\n",
    "        for i in range(0, len(messages) - 1, 2):\n",
    "            history_entries.append({\"question\": messages[i].content, \"answer\": messages[i + 1].content})\n",
    "        return dspy.History(messages=history_entries)\n",
    "\n",
    "    ######################################\n",
    "    ## This predict method is where the interaction first starts. If you want to change what happens here, you can. It must return ChatAgentResponse to be compatible with agents.deploy\n",
    "    ######################################\n",
    "    @mlflow.trace(span_type=SpanType.AGENT)\n",
    "    def predict(\n",
    "        self,\n",
    "        messages: list[ChatAgentMessage],\n",
    "        context: Optional[ChatContext] = None,\n",
    "        custom_inputs: Optional[dict[str, Any]] = None,\n",
    "    ) -> ChatAgentResponse:\n",
    "        latest_question = messages[-1].content\n",
    "        response = self.multi_genie_agent(sql_instruction=latest_question).response\n",
    "        return ChatAgentResponse(\n",
    "            messages=[ChatAgentMessage(role=\"assistant\", content=response, id=uuid.uuid4().hex)]\n",
    "        )\n",
    "\n",
    "# Set model for logging or interactive testing\n",
    "from mlflow.models import set_model\n",
    "AGENT = DSPyChatAgent()\n",
    "set_model(AGENT)"
   ]
  },
  {
   "cell_type": "code",
   "execution_count": 0,
   "metadata": {
    "application/vnd.databricks.v1+cell": {
     "cellMetadata": {},
     "inputWidgets": {},
     "nuid": "3b6002f1-e107-4aeb-87d8-63365c408956",
     "showTitle": false,
     "tableResultSettingsMap": {},
     "title": ""
    }
   },
   "outputs": [],
   "source": [
    "dbutils.library.restartPython()"
   ]
  },
  {
   "cell_type": "markdown",
   "metadata": {
    "application/vnd.databricks.v1+cell": {
     "cellMetadata": {},
     "inputWidgets": {},
     "nuid": "d8007e2f-ec18-493a-b8dd-201b21231d8c",
     "showTitle": false,
     "tableResultSettingsMap": {},
     "title": ""
    }
   },
   "source": [
    "### Log your Agent with passthrough authentication"
   ]
  },
  {
   "cell_type": "code",
   "execution_count": 0,
   "metadata": {
    "application/vnd.databricks.v1+cell": {
     "cellMetadata": {},
     "inputWidgets": {},
     "nuid": "d7d399fc-dd38-4a44-ac63-e8c6469d90d5",
     "showTitle": false,
     "tableResultSettingsMap": {},
     "title": ""
    }
   },
   "outputs": [],
   "source": [
    "import mlflow\n",
    "from agent import LLM_ENDPOINT_NAME\n",
    "from mlflow.models.resources import (\n",
    "    DatabricksFunction,\n",
    "    DatabricksGenieSpace,\n",
    "    DatabricksServingEndpoint,\n",
    "    DatabricksVectorSearchIndex\n",
    ")\n",
    "from pkg_resources import get_distribution\n",
    "\n",
    "\n",
    "# TODO : set the genie_space_id for each Genie Space you want to call\n",
    "resources = [\n",
    "    DatabricksServingEndpoint(endpoint_name=LLM_ENDPOINT_NAME),\n",
    "    DatabricksGenieSpace(genie_space_id= \"01f0357a714f14b39ec53dfeb7c916b5\"),\n",
    "    DatabricksGenieSpace(genie_space_id= \"01f0357a519d17cd96ad784b8afce762\"),\n",
    "    DatabricksVectorSearchIndex(index_name=\"jai_behl.ias.knowledge_base\")\n",
    "]\n",
    "\n",
    "with mlflow.start_run():\n",
    "    logged_agent_info = mlflow.pyfunc.log_model(\n",
    "        artifact_path=\"agent\",\n",
    "        python_model=\"agent.py\",\n",
    "        # input_example=input_example,\n",
    "        extra_pip_requirements=[f\"databricks-connect=={get_distribution('databricks-connect').version}\"],\n",
    "        resources=resources,\n",
    "    )"
   ]
  },
  {
   "cell_type": "markdown",
   "metadata": {
    "application/vnd.databricks.v1+cell": {
     "cellMetadata": {},
     "inputWidgets": {},
     "nuid": "6543c3b7-c8bf-48b7-989e-5e2233cb295f",
     "showTitle": false,
     "tableResultSettingsMap": {},
     "title": ""
    }
   },
   "source": [
    "### Register your Agent to Unity Catalog"
   ]
  },
  {
   "cell_type": "code",
   "execution_count": 0,
   "metadata": {
    "application/vnd.databricks.v1+cell": {
     "cellMetadata": {},
     "inputWidgets": {},
     "nuid": "e6102de8-a576-4d41-ab42-7ceaee216a03",
     "showTitle": false,
     "tableResultSettingsMap": {},
     "title": ""
    }
   },
   "outputs": [],
   "source": [
    "mlflow.set_registry_uri(\"databricks-uc\")\n",
    "\n",
    "# TODO: define the catalog, schema, and model name for your UC model.\n",
    "catalog = \"jai_behl\"\n",
    "schema = \"ias\"\n",
    "model_name = \"dspy_multi_genie\"\n",
    "UC_MODEL_NAME = f\"{catalog}.{schema}.{model_name}\"\n",
    "\n",
    "# register the model to UC\n",
    "uc_registered_model_info = mlflow.register_model(model_uri=logged_agent_info.model_uri, name=UC_MODEL_NAME)"
   ]
  },
  {
   "cell_type": "markdown",
   "metadata": {
    "application/vnd.databricks.v1+cell": {
     "cellMetadata": {},
     "inputWidgets": {},
     "nuid": "893ae3d8-127b-466b-8749-600864a46269",
     "showTitle": false,
     "tableResultSettingsMap": {},
     "title": ""
    }
   },
   "source": [
    "#Dev Time"
   ]
  },
  {
   "cell_type": "code",
   "execution_count": 0,
   "metadata": {
    "application/vnd.databricks.v1+cell": {
     "cellMetadata": {},
     "inputWidgets": {},
     "nuid": "fab3f417-4812-4945-89e8-58df0a692b1e",
     "showTitle": false,
     "tableResultSettingsMap": {},
     "title": ""
    }
   },
   "outputs": [],
   "source": []
  }
 ],
 "metadata": {
  "application/vnd.databricks.v1+notebook": {
   "computePreferences": null,
   "dashboards": [],
   "environmentMetadata": {
    "base_environment": "dbe_c75093c8-0895-475e-8c1b-6acacfe3368b",
    "environment_version": "2"
   },
   "inputWidgetPreferences": null,
   "language": "python",
   "notebookMetadata": {
    "pythonIndentUnit": 2
   },
   "notebookName": "03_Deploying with Databricks",
   "widgets": {}
  },
  "language_info": {
   "name": "python"
  }
 },
 "nbformat": 4,
 "nbformat_minor": 0
}
